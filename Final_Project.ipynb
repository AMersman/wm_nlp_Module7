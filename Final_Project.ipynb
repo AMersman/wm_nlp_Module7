{
 "cells": [
  {
   "cell_type": "markdown",
   "metadata": {},
   "source": [
    "# Web Mining and Applied NLP (44-620)\n",
    "\n",
    "## Final Project: Article Summary\n",
    "\n",
    "### Student Name: Ashley Mersman\n"
   ]
  },
  {
   "cell_type": "markdown",
   "metadata": {},
   "source": [
    "#### Import necessary libraries/modules"
   ]
  },
  {
   "cell_type": "code",
   "execution_count": 1,
   "metadata": {},
   "outputs": [
    {
     "name": "stdout",
     "output_type": "stream",
     "text": [
      "Package                       Version\n",
      "----------------------------- ---------\n",
      "alabaster                     0.7.12\n",
      "anaconda-client               1.11.2\n",
      "anaconda-navigator            2.4.0\n",
      "anyio                         3.5.0\n",
      "appdirs                       1.4.4\n",
      "applaunchservices             0.2.1\n",
      "appnope                       0.1.2\n",
      "appscript                     1.1.2\n",
      "argh                          0.26.2\n",
      "argon2-cffi                   21.3.0\n",
      "argon2-cffi-bindings          21.2.0\n",
      "arrow                         1.2.2\n",
      "asgiref                       3.7.2\n",
      "astroid                       2.14.2\n",
      "astropy                       5.1\n",
      "asttokens                     2.0.5\n",
      "atomicwrites                  1.4.0\n",
      "attrs                         22.1.0\n",
      "Automat                       20.2.0\n",
      "autopep8                      1.5.6\n",
      "Babel                         2.11.0\n",
      "backcall                      0.2.0\n",
      "backports.functools-lru-cache 1.6.4\n",
      "backports.tempfile            1.0\n",
      "backports.weakref             1.0.post1\n",
      "backports.zoneinfo            0.2.1\n",
      "bayesian-optimization         1.2.0\n",
      "bcrypt                        3.2.0\n",
      "beautifulsoup4                4.12.2\n",
      "binaryornot                   0.4.4\n",
      "black                         23.7.0\n",
      "bleach                        4.1.0\n",
      "blis                          0.7.9\n",
      "bokeh                         3.1.1\n",
      "Bottleneck                    1.3.5\n",
      "branca                        0.6.0\n",
      "brotlipy                      0.7.0\n",
      "catalogue                     2.0.8\n",
      "catboost                      1.0.6\n",
      "certifi                       2022.12.7\n",
      "cffi                          1.15.1\n",
      "chardet                       4.0.0\n",
      "charset-normalizer            2.0.4\n",
      "click                         8.0.4\n",
      "cloudpickle                   2.0.0\n",
      "clyent                        1.2.2\n",
      "colorama                      0.4.6\n",
      "colorcet                      3.0.1\n",
      "comm                          0.1.2\n",
      "conda                         4.11.0\n",
      "conda-build                   3.21.4\n",
      "conda-content-trust           0.1.3\n",
      "conda-package-handling        2.0.2\n",
      "conda_package_streaming       0.7.0\n",
      "conda-repo-cli                1.0.41\n",
      "conda-token                   0.4.0\n",
      "conda-verify                  3.4.2\n",
      "confection                    0.1.0\n",
      "constantly                    15.1.0\n",
      "contextvars                   2.4\n",
      "contourpy                     1.0.5\n",
      "cookiecutter                  2.1.1\n",
      "cryptography                  39.0.1\n",
      "cssselect                     1.1.0\n",
      "cycler                        0.11.0\n",
      "cymem                         2.0.7\n",
      "cytoolz                       0.12.0\n",
      "dask                          2023.3.2\n",
      "datashader                    0.14.4\n",
      "datashape                     0.5.4\n",
      "debugpy                       1.5.1\n",
      "decorator                     5.1.1\n",
      "defusedxml                    0.7.1\n",
      "diff-match-patch              20200713\n",
      "dill                          0.3.6\n",
      "distlib                       0.3.6\n",
      "distributed                   2023.3.2\n",
      "docutils                      0.18.1\n",
      "en-core-web-sm                3.6.0\n",
      "entrypoints                   0.4\n",
      "et-xmlfile                    1.1.0\n",
      "executing                     0.8.3\n",
      "fastjsonschema                2.16.2\n",
      "filelock                      3.12.2\n",
      "flake8                        3.9.0\n",
      "Flask                         2.2.2\n",
      "fonttools                     4.25.0\n",
      "fsspec                        2023.3.0\n",
      "future                        0.18.3\n",
      "gensim                        4.3.0\n",
      "glob2                         0.7\n",
      "gmpy2                         2.1.2\n",
      "graphviz                      0.19.1\n",
      "greenlet                      2.0.1\n",
      "h11                           0.14.0\n",
      "h5py                          3.7.0\n",
      "HeapDict                      1.0.1\n",
      "holoviews                     1.16.2\n",
      "html5lib                      1.1\n",
      "htmltools                     0.2.1\n",
      "huggingface-hub               0.10.1\n",
      "hvplot                        0.8.4\n",
      "hyperlink                     21.0.0\n",
      "idna                          3.4\n",
      "imagecodecs                   2021.8.26\n",
      "imageio                       2.26.0\n",
      "imagesize                     1.4.1\n",
      "imbalanced-learn              0.10.1\n",
      "immutables                    0.19\n",
      "importlib-metadata            6.0.0\n",
      "importlib-resources           5.2.0\n",
      "incremental                   21.3.0\n",
      "iniconfig                     1.1.1\n",
      "intake                        0.6.8\n",
      "intervaltree                  3.1.0\n",
      "ipykernel                     6.19.2\n",
      "ipyleaflet                    0.17.3\n",
      "ipython                       8.12.0\n",
      "ipython-genutils              0.2.0\n",
      "ipywidgets                    8.0.7\n",
      "isort                         5.9.3\n",
      "itemadapter                   0.3.0\n",
      "itemloaders                   1.0.4\n",
      "itsdangerous                  2.0.1\n",
      "jaraco.classes                3.2.1\n",
      "jedi                          0.17.2\n",
      "Jinja2                        3.1.2\n",
      "jinja2-time                   0.2.0\n",
      "jmespath                      0.10.0\n",
      "joblib                        1.1.1\n",
      "json5                         0.9.6\n",
      "jsonschema                    4.17.3\n",
      "jupyter                       1.0.0\n",
      "jupyter-bokeh                 3.0.7\n",
      "jupyter_client                8.1.0\n",
      "jupyter-console               6.6.2\n",
      "jupyter_core                  5.3.0\n",
      "jupyter-server                1.23.4\n",
      "jupyterlab                    3.5.3\n",
      "jupyterlab-pygments           0.1.2\n",
      "jupyterlab_server             2.22.0\n",
      "jupyterlab-widgets            3.0.8\n",
      "keyring                       23.13.1\n",
      "kiwisolver                    1.4.4\n",
      "langcodes                     3.3.0\n",
      "lazy-object-proxy             1.6.0\n",
      "libarchive-c                  2.9\n",
      "lightgbm                      3.3.2\n",
      "linkify-it-py                 2.0.2\n",
      "llvmlite                      0.39.1\n",
      "locket                        1.0.0\n",
      "lxml                          4.9.2\n",
      "lyricsgenius                  3.0.1\n",
      "lz4                           3.1.3\n",
      "Markdown                      3.4.1\n",
      "markdown-it-py                3.0.0\n",
      "MarkupSafe                    2.1.1\n",
      "mathjax                       0.1.2\n",
      "matplotlib                    3.7.2\n",
      "matplotlib-inline             0.1.6\n",
      "mccabe                        0.6.1\n",
      "mdit-py-plugins               0.4.0\n",
      "mdurl                         0.1.2\n",
      "mistune                       0.8.4\n",
      "mizani                        0.9.2\n",
      "mock                          4.0.3\n",
      "more-itertools                8.12.0\n",
      "mpmath                        1.2.1\n",
      "msgpack                       1.0.3\n",
      "multipledispatch              0.6.0\n",
      "munkres                       1.1.4\n",
      "murmurhash                    1.0.9\n",
      "mypy-extensions               0.4.3\n",
      "navigator-updater             0.3.0\n",
      "nbclassic                     0.5.5\n",
      "nbclient                      0.5.13\n",
      "nbconvert                     6.5.4\n",
      "nbformat                      5.7.0\n",
      "nest-asyncio                  1.5.6\n",
      "networkx                      2.8.4\n",
      "nltk                          3.7\n",
      "nodeenv                       1.8.0\n",
      "notebook                      6.5.4\n",
      "notebook_shim                 0.2.2\n",
      "numba                         0.56.4\n",
      "numexpr                       2.8.4\n",
      "numpy                         1.23.5\n",
      "numpydoc                      1.5.0\n",
      "openpyxl                      3.1.2\n",
      "packaging                     23.0\n",
      "pandas                        2.0.3\n",
      "pandocfilters                 1.5.0\n",
      "panel                         1.2.0\n",
      "param                         1.12.3\n",
      "parsel                        1.6.0\n",
      "parso                         0.7.0\n",
      "partd                         1.2.0\n",
      "pathspec                      0.10.3\n",
      "pathy                         0.10.2\n",
      "patsy                         0.5.3\n",
      "pep8                          1.7.1\n",
      "pexpect                       4.8.0\n",
      "pickleshare                   0.7.5\n",
      "Pillow                        9.4.0\n",
      "pip                           23.2.1\n",
      "pkginfo                       1.9.6\n",
      "pkgutil_resolve_name          1.3.10\n",
      "platformdirs                  3.8.1\n",
      "plotly                        5.15.0\n",
      "plotnine                      0.12.1\n",
      "pluggy                        1.0.0\n",
      "pooch                         1.4.0\n",
      "preshed                       3.0.8\n",
      "prometheus-client             0.14.1\n",
      "prompt-toolkit                3.0.36\n",
      "Protego                       0.1.16\n",
      "psutil                        5.9.0\n",
      "psycopg2-binary               2.9.6\n",
      "ptyprocess                    0.7.0\n",
      "pure-eval                     0.2.2\n",
      "py                            1.11.0\n",
      "pyasn1                        0.4.8\n",
      "pyasn1-modules                0.2.8\n",
      "pycodestyle                   2.6.0\n",
      "pycosat                       0.6.4\n",
      "pycparser                     2.21\n",
      "pyct                          0.5.0\n",
      "pycurl                        7.45.2\n",
      "pydantic                      1.10.11\n",
      "PyDispatcher                  2.0.5\n",
      "pydocstyle                    6.3.0\n",
      "pydotplus                     2.0.2\n",
      "pyerfa                        2.0.0\n",
      "pyflakes                      2.2.0\n",
      "Pygments                      2.11.2\n",
      "PyHamcrest                    2.0.2\n",
      "PyJWT                         2.4.0\n",
      "pylint                        2.16.2\n",
      "pyls-black                    0.4.6\n",
      "pyls-spyder                   0.3.2\n",
      "pyodbc                        4.0.34\n",
      "pyodide-py                    0.23.4\n",
      "pyOpenSSL                     23.0.0\n",
      "pyparsing                     3.0.9\n",
      "pyright                       1.1.317\n",
      "pyrsistent                    0.18.0\n",
      "PySocks                       1.7.1\n",
      "pytest                        7.1.2\n",
      "python-dateutil               2.8.2\n",
      "python-dotenv                 0.19.1\n",
      "python-jsonrpc-server         0.4.0\n",
      "python-language-server        0.36.2\n",
      "python-multipart              0.0.6\n",
      "python-slugify                6.1.2\n",
      "python-snappy                 0.6.1\n",
      "pytoolconfig                  1.2.5\n",
      "pytz                          2022.7\n",
      "pyviz-comms                   2.0.2\n",
      "PyWavelets                    1.4.1\n",
      "PyYAML                        6.0\n",
      "pyzmq                         23.2.0\n",
      "QDarkStyle                    2.8.1\n",
      "QtAwesome                     1.2.2\n",
      "qtconsole                     5.4.2\n",
      "QtPy                          2.2.0\n",
      "queuelib                      1.5.0\n",
      "regex                         2022.7.9\n",
      "requests                      2.28.1\n",
      "requests-file                 1.5.1\n",
      "requests-toolbelt             0.9.1\n",
      "rope                          1.7.0\n",
      "rsconnect-python              1.19.0\n",
      "Rtree                         1.0.1\n",
      "ruamel-yaml-conda             0.15.100\n",
      "ruff                          0.0.278\n",
      "scikit-image                  0.19.3\n",
      "scikit-learn                  1.2.2\n",
      "scipy                         1.10.1\n",
      "Scrapy                        2.8.0\n",
      "seaborn                       0.12.2\n",
      "semver                        2.13.0\n",
      "Send2Trash                    1.8.0\n",
      "service-identity              18.1.0\n",
      "setuptools                    66.0.0\n",
      "shiny                         0.4.0\n",
      "shinyswatch                   0.2.4\n",
      "shinywidgets                  0.2.1\n",
      "six                           1.16.0\n",
      "smart-open                    5.2.1\n",
      "sniffio                       1.2.0\n",
      "snowballstemmer               2.2.0\n",
      "sortedcontainers              2.4.0\n",
      "soupsieve                     2.4\n",
      "spacy                         3.6.0\n",
      "spacy-legacy                  3.0.12\n",
      "spacy-loggers                 1.0.4\n",
      "spacytextblob                 4.0.0\n",
      "Sphinx                        5.0.2\n",
      "sphinxcontrib-applehelp       1.0.2\n",
      "sphinxcontrib-devhelp         1.0.2\n",
      "sphinxcontrib-htmlhelp        2.0.0\n",
      "sphinxcontrib-jsmath          1.0.1\n",
      "sphinxcontrib-qthelp          1.0.3\n",
      "sphinxcontrib-serializinghtml 1.1.5\n",
      "spyder                        4.2.5\n",
      "spyder-kernels                1.10.2\n",
      "SQLAlchemy                    1.4.39\n",
      "srsly                         2.4.6\n",
      "stack-data                    0.2.0\n",
      "starlette                     0.30.0\n",
      "statsmodels                   0.14.0\n",
      "sympy                         1.11.1\n",
      "tables                        3.7.0\n",
      "tabulate                      0.8.10\n",
      "TBB                           0.2\n",
      "tblib                         1.7.0\n",
      "tenacity                      8.0.1\n",
      "terminado                     0.17.1\n",
      "text-unidecode                1.3\n",
      "textblob                      0.15.3\n",
      "textdistance                  4.2.1\n",
      "thinc                         8.1.10\n",
      "threadpoolctl                 2.2.0\n",
      "three-merge                   0.1.1\n",
      "tifffile                      2021.7.2\n",
      "tinycss2                      1.2.1\n",
      "tldextract                    3.2.0\n",
      "tokenizers                    0.11.4\n",
      "toml                          0.10.2\n",
      "tomli                         2.0.1\n",
      "tomlkit                       0.11.1\n",
      "toolz                         0.12.0\n",
      "torch                         1.13.1\n",
      "tornado                       6.2\n",
      "tqdm                          4.65.0\n",
      "traitlets                     5.7.1\n",
      "traittypes                    0.2.1\n",
      "transformers                  4.24.0\n",
      "turtle                        0.0.1\n",
      "Twisted                       22.2.0\n",
      "typer                         0.9.0\n",
      "typing_extensions             4.5.0\n",
      "tzdata                        2023.3\n",
      "uc-micro-py                   1.0.2\n",
      "ujson                         5.4.0\n",
      "urllib3                       1.26.15\n",
      "uvicorn                       0.23.0\n",
      "virtualenv                    20.23.1\n",
      "w3lib                         1.21.0\n",
      "wasabi                        1.1.2\n",
      "watchdog                      1.0.2\n",
      "watchfiles                    0.19.0\n",
      "watermark                     2.3.1\n",
      "wcwidth                       0.2.5\n",
      "webencodings                  0.5.1\n",
      "websocket-client              0.58.0\n",
      "websockets                    11.0.3\n",
      "Werkzeug                      2.2.3\n",
      "wheel                         0.41.0\n",
      "widgetsnbextension            4.0.8\n",
      "wordcloud                     1.8.2.2\n",
      "wrapt                         1.14.1\n",
      "wurlitzer                     3.0.2\n",
      "xarray                        2022.11.0\n",
      "xlwings                       0.29.1\n",
      "XStatic-bootswatch            3.3.7.0\n",
      "xyzservices                   2023.7.0\n",
      "yapf                          0.31.0\n",
      "zict                          2.1.0\n",
      "zipp                          3.11.0\n",
      "zope.interface                5.4.0\n",
      "zstandard                     0.19.0\n"
     ]
    }
   ],
   "source": [
    "from collections import Counter\n",
    "import pickle\n",
    "import requests\n",
    "import spacy\n",
    "from spacytextblob.spacytextblob import SpacyTextBlob\n",
    "from bs4 import BeautifulSoup\n",
    "import matplotlib.pyplot as plt\n",
    "\n",
    "!pip list\n"
   ]
  },
  {
   "cell_type": "markdown",
   "metadata": {},
   "source": [
    "#### Store text from article (https://www.cnn.com/2023/06/24/tech/artificial-intelligence-generative-ai-explained/index.html) and store the html in a file (.pkl). "
   ]
  },
  {
   "cell_type": "code",
   "execution_count": 2,
   "metadata": {},
   "outputs": [],
   "source": [
    "import requests \n",
    "#Scrape data from website\n",
    "response = requests.get(\"https://www.cnn.com/2023/06/24/tech/artificial-intelligence-generative-ai-explained/index.html\")\n",
    "\n",
    "\n"
   ]
  },
  {
   "cell_type": "code",
   "execution_count": 3,
   "metadata": {},
   "outputs": [],
   "source": [
    "#save text and print from scraped data\n",
    "text = response.text\n",
    "#Save text as a pickle file\n",
    "with open('article_text.pkl', 'wb') as file:\n",
    "    pickle.dump(text, file)\n"
   ]
  },
  {
   "cell_type": "markdown",
   "metadata": {},
   "source": [
    "#### Read in the file and get the text. Perform sentitment analysis on the article. "
   ]
  },
  {
   "cell_type": "code",
   "execution_count": 4,
   "metadata": {},
   "outputs": [
    {
     "name": "stdout",
     "output_type": "stream",
     "text": [
      "\n",
      "\n",
      "\n",
      "\n",
      "\n",
      "\n",
      "\n",
      "\n",
      "\n",
      "\n",
      "\n",
      "\n",
      "\n",
      "Tom Werner/Stone RF/Getty Images\n",
      "\n",
      "\n",
      "\n",
      "\n",
      "\n",
      "\n",
      "\n",
      "\n",
      "CNN\n",
      "         — \n",
      "    \n",
      "\n",
      "\n",
      "      Business executives keep talking about it. Teachers are struggling with what to do about it. And artists like Drake seem angry about it. \n",
      "  \n",
      "\n",
      "      Love it or hate it, everyone is paying attention to artificial intelligence right now. Almost overnight, a new crop of AI tools has found its way into products used by billions of people, changing the way we work, shop, create and communicate with each other.\n",
      "  \n",
      "\n",
      "      AI advocates tout the technology’s potential to supercharge our productivity, creating a new era of better jobs, better education and better treatments for diseases. AI skeptics have raised concerns about the technology’s potential to disrupt jobs, mislead people and possibly bring about the end of humanity as we know it. Confusingly, some execs in Silicon Valley seem to hold both sets of views at once. \n",
      "  \n",
      "\n",
      "      What’s clear, however, is that AI is not going away, but it is changing very fast. Here’s everything you need to know to keep up.\n",
      "  \n",
      "\n",
      "    What is AI? \n",
      "\n",
      "\n",
      "      In the public consciousness, “artificial intelligence” may conjure up images of murderous machines eager to overtake humans, and capable of doing so. But in the tech industry, it’s a broad term that refers to different tools that are trained to perform a wide range of complex tasks that might previously have required some input from an actual person. \n",
      "  \n",
      "\n",
      "      If you use the internet, then you almost certainly use services that rely on AI to sort data, filter content and make suggestions, among other tasks. \n",
      "  \n",
      "\n",
      "      It’s the technology that allows Netflix to recommend movies and that helps remove spam, hate speech and other inappropriate content from your social media feeds. It helps power everything from autocorrect features and Google Translate to facial recognition services, the last of which uses AI that, in Microsoft’s words, “mimics a human capability to recognize human faces.”\n",
      "  \n",
      "\n",
      "      AI can also be successful in developing techniques for solving a wide range of real world problems, such as adjusting traffic signals in real time to manage congestion issues or helping medical professionals analyze images to make a diagnosis. AI is also central to developing self-driving cars by processing tremendous amounts of visual data so the vehicles can understand their surroundings.\n",
      "  \n",
      "\n",
      "    So why is everyone talking about AI now? \n",
      "\n",
      "\n",
      "      The short answer: ChatGPT.\n",
      "  \n",
      "\n",
      "      For years, AI has largely operated in the background of services we use every day. That changed following the November launch of ChatGPT, a viral chatbot that put the power of AI front and center.\n",
      "  \n",
      "\n",
      "      People have already used ChatGPT, a tool created by OpenAI, to draft lawsuits, write song lyrics and create research paper abstracts so good they’ve even fooled some scientists. The tool has even passed standardized exams. And ChatGPT has sparked an intense competition among tech companies to develop and deploy similar tools.\n",
      "  \n",
      "\n",
      "\n",
      "\n",
      "\n",
      "\n",
      "\n",
      "The ChatGPT app is seen running on an iPhone in this photo illustration\n",
      "\n",
      "Jaap Arriens/NurPhoto/Getty Images\n",
      "\n",
      "\n",
      "\n",
      "      Microsoft and Google have each introduced features powered by generative AI, the technology underpinning ChatGPT, into their most widely used productivity tools. Meta, Amazon and Alibaba have said they’re working on generative AI tools, too. And numerous other businesses also want in on the action.\n",
      "  \n",
      "\n",
      "      It’s rare to see a cutting-edge technology become so ubiquitous almost overnight. Now businesses, educators and lawmakers are all racing to adapt.\n",
      "  \n",
      "\n",
      "    How exactly does generative AI work? \n",
      "\n",
      "\n",
      "      Generative AI enables tools to create written work, images and even audio in response to prompts from users.\n",
      "  \n",
      "\n",
      "      To get those responses, several Big Tech companies have developed their own large language models trained on vast amounts of online data. The scope and purpose of these data sets can vary. For example, the version of ChatGPT that went public last year was only trained on data up until 2021 (it’s now more up to date). \n",
      "  \n",
      "\n",
      "      These models work through a method called deep learning, which learns patterns and relationships between words, so it can make predictive responses and generate relevant outputs to user prompts.\n",
      "  \n",
      "\n",
      "    How is generative AI different from AGI?\n",
      "\n",
      "\n",
      "      As impressive as some generative AI services may seem, they essentially just do pattern matching. These tools can mimic the writing of others or make predictions about what words might be relevant in their responses based on all the data they’ve previously been trained on.\n",
      "  \n",
      "\n",
      "      AGI, on the other hand, promises something more ambitious — and scary.\n",
      "  \n",
      "\n",
      "      AGI — short for artificial general intelligence — refers to technology that can perform intelligent tasks such as learning, reasoning and adapting to new situations in the way that humans do. OpenAI CEO Sam Altman has teased the possibility of a superintelligent AGI that could go on to change the world or perhaps backfire and end humanity.\n",
      "  \n",
      "\n",
      "      For the moment, however, AGI remains purely a hypothetical, so don’t worry too much about it.\n",
      "  \n",
      "\n",
      "    How much of the AI gold rush is just hype?\n",
      "\n",
      "\n",
      "      Anytime there’s an excess of buzz around a technology, it’s good to be skeptical — and there is certainly a lot of that here. Investor fascination with AI has helped push Wall Street back into a bull market, despite lingering economic uncertainty. \n",
      "  \n",
      "\n",
      "      Not all AI tools are equally useful and many companies will certainly tout AI features and strategies simply to tap into the current hype cycle. But even in just the past six months, AI has already shown potential to change how people do numerous everyday tasks.\n",
      "  \n",
      "\n",
      "      One of the biggest selling points around AI chatbots, for example, is their ability to make people more productive. Earlier this year, some real estate agents told CNN that ChatGPT saved them hours of work not only by writing listings for homes for sale but also looking up the permitted uses for certain land and calculating what mortgage payments or the return on investment might be for a client, which typically involve formulas and mortgage calculators.\n",
      "  \n",
      "\n",
      "      Artificial intelligence is also much broader than ChatGPT and other generative AI tools. Even if you think AI chatbots are annoying or might be a fad, the underlying technology will continue to power meaningful advances in products and services for years to come.\n",
      "  \n",
      "\n",
      "    Will it steal my job? \n",
      "\n",
      "\n",
      "      The fear is AI will eliminate millions of jobs. The hope is it will help improve how millions do their jobs. The current reality is somewhere in between.\n",
      "  \n",
      "\n",
      "      Companies will likely need new workers to help them implement and manage AI tools. Employment of data analysts and scientists, machine learning specialists and cybersecurity experts is forecast to grow 30% on average by 2027, according to one recent estimate from the World Economic Forum.\n",
      "  \n",
      "\n",
      "      But the proliferation of AI will also likely put many roles at risk eventually. There could be 26 million fewer record-keeping and administrative jobs by 2027, the WEF predicted. Data entry clerks and executive secretaries are expected to see the steepest losses.\n",
      "  \n",
      "\n",
      "      For now, there are clearly limits to how well AI can do the job of a human on its own. After media outlet CNET experimented with using AI to write articles, tech website Futurism uncovered factual errors and in some cases, plagiarism, in various pieces. Likewise, a lawyer in May made headlines for citing false court cases to a judge provided to him by ChatGPT. In an affidavit, the lawyer said he had never used ChatGPT as a legal research tool before and “was unaware of the possibility that its content could be false.” \n",
      "  \n",
      "\n",
      "\n",
      "\n",
      "\n",
      "\n",
      "\n",
      "Alphabet CEO Sundar Pichai, left, and OpenAI CEO Sam Altman arrive to the White House for a meeting with Vice President Kamala Harris on artificial intelligence, Thursday, May 4, 2023, in Washington.\n",
      "\n",
      "Evan Vucci/AP\n",
      "\n",
      "\n",
      "\n",
      "    Is AI dangerous?\n",
      "\n",
      "\n",
      "      Top AI executives have warned that AI could potentially bring about human extinction. But these same executives are also racing to deploy the technology into their products. \n",
      "  \n",
      "\n",
      "      Some experts say that focusing on far-off doomsday scenarios may distract from the more immediate harms that AI can cause, such as spreading misinformation, perpetuating biases that exist in training data, and enabling discrimination.\n",
      "  \n",
      "\n",
      "      For example, generative AI could be used to create deepfakes to spread propaganda during an election or enable a frightening new era of scams. Some AI models have also been criticized for what the industry calls “hallucinations,” or making up information. \n",
      "  \n",
      "\n",
      "      Even before the rise of ChatGPT, there were concerns about AI acting as a gatekeeper that can determine who does and does not move forward in a hiring process, for example. AI-powered facial recognition systems have also resulted in some wrongful arrests, and research has shown these systems are drastically more prone to error when trying to match the faces of darker skinned people.\n",
      "  \n",
      "\n",
      "      The more AI tools are incorporated into core parts of society, the more potential there is for unintended consequences.\n",
      "  \n",
      "\n",
      "    Where does AI go from here?\n",
      "\n",
      "\n",
      "      Regulators in the United States and Europe are pushing for legislation to help put guardrails in place for AI, which could ultimately impact how the technology develops. But it’s unclear if lawmakers can keep pace with the rapid advances in AI. \n",
      "  \n",
      "\n",
      "      Experts believe in the months ahead, generative AI will go on to create even more realistic images, videos, and audio that could further disrupt media, entertainment, tech and other industries. The technology will likely become increasingly conversational and personalized.\n",
      "  \n",
      "\n",
      "      In March, OpenAI unveiled GPT-4, the next-generation version of the technology that powers ChatGPT. According to the company and early tests, GPT-4 is able to provide more detailed and accurate written responses, pass academic tests with high marks and build a working website from a hand-drawn sketch. (Altman has previously said OpenAI is not yet training GPT-5.) \n",
      "\n",
      "\n",
      "      AI will almost certainly be infused into many more products and services in the coming months. That means we’ll all have to learn how to live with it.\n",
      "  \n",
      "\n",
      "      As ChatGPT put it in response to a prompt from CNN, “AI has the potential to transform our lives … but it’s crucial for companies and individuals to be mindful of the accompanying risks and responsibly address concerns.”\n",
      "  \n",
      "\n",
      "\n",
      "\n",
      "\n",
      "\n",
      "\n",
      "\n"
     ]
    }
   ],
   "source": [
    "# Read the file contents \n",
    "with open('article_text.pkl', 'rb') as f:\n",
    "    article_text = pickle.load(f)\n",
    "\n",
    "# Parse HTML content \n",
    "parser = 'html.parser'\n",
    "soup = BeautifulSoup(article_text, parser)\n",
    "\n",
    "article_element = soup.find('article')\n",
    "\n",
    "# Print text\n",
    "print(article_element.get_text())"
   ]
  },
  {
   "cell_type": "markdown",
   "metadata": {},
   "source": [
    "##### Sentiment Analysis - Polarity Score using Spacy pipeline"
   ]
  },
  {
   "cell_type": "code",
   "execution_count": 5,
   "metadata": {},
   "outputs": [
    {
     "name": "stdout",
     "output_type": "stream",
     "text": [
      "The polarity score for the article is: 0.0764\n"
     ]
    }
   ],
   "source": [
    "nlp = spacy.load('en_core_web_sm')\n",
    "# why not, let's add some fun sentiment analysis, because we can\n",
    "nlp.add_pipe('spacytextblob')\n",
    "doc = nlp(article_element.get_text())\n",
    "print(f'The polarity score for the article is: {round(doc._.polarity, 4)}')"
   ]
  },
  {
   "cell_type": "markdown",
   "metadata": {},
   "source": [
    "##### Number of sentences in the article. "
   ]
  },
  {
   "cell_type": "code",
   "execution_count": 6,
   "metadata": {},
   "outputs": [
    {
     "name": "stdout",
     "output_type": "stream",
     "text": [
      "There are 85 sentences in the article.\n"
     ]
    }
   ],
   "source": [
    "sentences = list(doc.sents)\n",
    "print(f'There are {len(sentences)} sentences in the article.')"
   ]
  },
  {
   "cell_type": "markdown",
   "metadata": {},
   "source": [
    "##### Number of tokens in the article.\n"
   ]
  },
  {
   "cell_type": "code",
   "execution_count": 7,
   "metadata": {},
   "outputs": [
    {
     "name": "stdout",
     "output_type": "stream",
     "text": [
      "There are a total of 1945 tokens.\n"
     ]
    }
   ],
   "source": [
    "count = 0\n",
    "for token in doc:\n",
    "    count += 1\n",
    "print(f'There are a total of {count} tokens.')\n",
    "    \n",
    "    "
   ]
  },
  {
   "cell_type": "markdown",
   "metadata": {},
   "source": [
    "###### We need to remove white spaces, punctuation, and stop words and recalculate. "
   ]
  },
  {
   "cell_type": "code",
   "execution_count": 8,
   "metadata": {
    "scrolled": true
   },
   "outputs": [
    {
     "name": "stdout",
     "output_type": "stream",
     "text": [
      "There are 877 tokens that we care about in the document.\n"
     ]
    }
   ],
   "source": [
    "def tokens_of_interest(token):\n",
    "    return not(token.is_space or token.is_punct or token.is_stop)\n",
    "\n",
    "interesting_tokens = [token.text.lower() for token in doc if tokens_of_interest(token)]\n",
    "print(f'There are {len(interesting_tokens)} tokens that we care about in the document.')"
   ]
  },
  {
   "cell_type": "markdown",
   "metadata": {},
   "source": [
    "##### Use trained Spacy pipeline to determine the top 5 most frequent tokens in the document. "
   ]
  },
  {
   "cell_type": "code",
   "execution_count": 9,
   "metadata": {},
   "outputs": [],
   "source": [
    "#Get token frequencies\n",
    "token_count = Counter(map(str,interesting_tokens))\n",
    "token_top_10 = token_count.most_common(10)\n",
    "\n"
   ]
  },
  {
   "cell_type": "code",
   "execution_count": 10,
   "metadata": {},
   "outputs": [
    {
     "name": "stdout",
     "output_type": "stream",
     "text": [
      "Token                 Frequency\n",
      "ai                    46\n",
      "chatgpt               14\n",
      "technology            12\n",
      "tools                 11\n",
      "data                   9\n",
      "generative             9\n",
      "images                 6\n",
      "people                 6\n",
      "services               6\n",
      "artificial             5\n"
     ]
    }
   ],
   "source": [
    "print('Token                 Frequency')\n",
    "for token, count in token_top_10:\n",
    "    print(f'{token:<13}{count:>11}')"
   ]
  },
  {
   "cell_type": "markdown",
   "metadata": {},
   "source": [
    "##### Plot the token score.\n",
    "* Token scores are a quantification of how many interesting tokens are used in a sentence versus all tokens (except punctuation and white space). "
   ]
  },
  {
   "cell_type": "code",
   "execution_count": 11,
   "metadata": {},
   "outputs": [],
   "source": [
    "def score_sentence_by_token(sentence, interesting_token):\n",
    "    #calculate sentence length\n",
    "    def sentence_length(sentence):\n",
    "        count = 0\n",
    "        for token in sentence:\n",
    "            if not(token.is_space or token.is_punct):\n",
    "                count += 1\n",
    "        return count\n",
    "    #count number of interesting tokens in the sentence\n",
    "    interesting_token_count = len(([token.text.lower() for token in sentence if token.text.lower() in interesting_tokens]))\n",
    "    #determine the score by dividing\n",
    "    score = interesting_token_count/sentence_length(sentence)\n",
    "    #return the score from above\n",
    "    return score\n",
    "\n",
    "#create a list of all sentences in the doc\n",
    "sentences = list(doc.sents)\n",
    "\n"
   ]
  },
  {
   "cell_type": "code",
   "execution_count": 12,
   "metadata": {},
   "outputs": [
    {
     "data": {
      "image/png": "[encoded data removed]",
      "text/plain": [
       "<Figure size 640x480 with 1 Axes>"
      ]
     },
     "metadata": {},
     "output_type": "display_data"
    },
    {
     "data": {
      "text/plain": [
       "<Figure size 640x480 with 0 Axes>"
      ]
     },
     "metadata": {},
     "output_type": "display_data"
    }
   ],
   "source": [
    "#scores by token\n",
    "token_scores = []\n",
    "for sentence in list(doc.sents):\n",
    "    score = score_sentence_by_token(sentence, interesting_tokens)\n",
    "    token_scores.append(score)\n",
    "    \n",
    "#Distribution Plot\n",
    "plt.hist(token_scores)\n",
    "plt.title('Distribution of Token Scores')\n",
    "plt.xlabel('Sentence Score')\n",
    "plt.ylabel('Frequency')\n",
    "plt.show()\n",
    "plt.clf()"
   ]
  },
  {
   "cell_type": "markdown",
   "metadata": {},
   "source": [
    "##### Use trained Spacy pipeline to determine the top 5 most frequent lemma in the document. "
   ]
  },
  {
   "cell_type": "code",
   "execution_count": 13,
   "metadata": {},
   "outputs": [
    {
     "name": "stdout",
     "output_type": "stream",
     "text": [
      "Token            Frequency\n",
      "ai               46\n",
      "tool             14\n",
      "chatgpt          14\n",
      "technology       12\n",
      "datum             9\n",
      "generative        9\n",
      "work              7\n",
      "create            7\n",
      "job               7\n",
      "help              7\n"
     ]
    }
   ],
   "source": [
    "interesting_lemmas = [token.lemma_.lower() for token in doc if tokens_of_interest(token)]\n",
    "lemma_count = Counter(map(str,interesting_lemmas))\n",
    "top_10_lemma = lemma_count.most_common(10)\n",
    "print('Token            Frequency')\n",
    "for lemma, count in top_10_lemma:\n",
    "    print(f'{lemma:<10}{count:>9}')"
   ]
  },
  {
   "cell_type": "markdown",
   "metadata": {},
   "source": [
    "##### Plot the lemma score.\n",
    "* Lemma scores are a quantification of how many interesting tokens are used in a sentence versus all tokens (except punctuation and white space). "
   ]
  },
  {
   "cell_type": "code",
   "execution_count": 14,
   "metadata": {},
   "outputs": [],
   "source": [
    "def score_sentence_by_lemma(sentence, interesting_lemma):\n",
    "    #calculate sentence length\n",
    "    def sentence_length(sentence):\n",
    "        count = 0\n",
    "        for token in sentence:\n",
    "            if not(token.is_space or token.is_punct):\n",
    "                count += 1\n",
    "        return count\n",
    "    #count number of interesting tokens in the sentence\n",
    "    interesting_lemma_count = len(([token.lemma_.lower() for token in sentence if token.lemma_.lower() in interesting_lemmas]))\n",
    "    score = interesting_lemma_count/sentence_length(sentence)\n",
    "    return score\n"
   ]
  },
  {
   "cell_type": "code",
   "execution_count": 15,
   "metadata": {},
   "outputs": [
    {
     "data": {
      "image/png": "[encoded data removed]",
      "text/plain": [
       "<Figure size 640x480 with 1 Axes>"
      ]
     },
     "metadata": {},
     "output_type": "display_data"
    },
    {
     "data": {
      "text/plain": [
       "<Figure size 640x480 with 0 Axes>"
      ]
     },
     "metadata": {},
     "output_type": "display_data"
    }
   ],
   "source": [
    "#scores by lemma\n",
    "lemma_scores = []\n",
    "for sentence in list(doc.sents):\n",
    "    score = score_sentence_by_lemma(sentence, interesting_tokens)\n",
    "    lemma_scores.append(score)\n",
    "    \n",
    "#Distribution Plot\n",
    "plt.hist(lemma_scores)\n",
    "plt.title('Distribution of Lemma Scores')\n",
    "plt.xlabel('Sentence Score')\n",
    "plt.ylabel('Frequency')\n",
    "plt.show()\n",
    "plt.clf()"
   ]
  },
  {
   "cell_type": "markdown",
   "metadata": {},
   "source": [
    "###### Determine a cut off value for the sentence scores (for tokens and lemmas). Use the value to create a summary and determine a polarity score for the summaries and compare."
   ]
  },
  {
   "cell_type": "code",
   "execution_count": 16,
   "metadata": {},
   "outputs": [],
   "source": [
    "cut_off = 0.65"
   ]
  },
  {
   "cell_type": "code",
   "execution_count": 17,
   "metadata": {},
   "outputs": [],
   "source": [
    "#scores by lemma\n",
    "token_sent_scores = list()\n",
    "for sentence in list(doc.sents):\n",
    "    score = score_sentence_by_token(sentence, interesting_tokens)\n",
    "    if score >= cut_off:\n",
    "        token_sent_scores.append(sentence.text.strip())"
   ]
  },
  {
   "cell_type": "code",
   "execution_count": 18,
   "metadata": {},
   "outputs": [
    {
     "name": "stdout",
     "output_type": "stream",
     "text": [
      "The length of the summary with a cut-off of 0.65 is 9 sentences, based on token score.\n"
     ]
    }
   ],
   "source": [
    "print(f'The length of the summary with a cut-off of {cut_off} is {len(token_sent_scores)} sentences, based on token score.')"
   ]
  },
  {
   "cell_type": "code",
   "execution_count": 19,
   "metadata": {},
   "outputs": [],
   "source": [
    "token_summary = ' '.join(token_sent_scores)"
   ]
  },
  {
   "cell_type": "code",
   "execution_count": 20,
   "metadata": {},
   "outputs": [
    {
     "name": "stdout",
     "output_type": "stream",
     "text": [
      "Tom Werner/Stone RF/Getty Images\n",
      "\n",
      "\n",
      "\n",
      "\n",
      "\n",
      "\n",
      "\n",
      "\n",
      "CNN\n",
      "         — \n",
      "    \n",
      "\n",
      "\n",
      "      Business executives keep talking about it. AI advocates tout the technology’s potential to supercharge our productivity, creating a new era of better jobs, better education and better treatments for diseases. The short answer: ChatGPT. How exactly does generative AI work? Generative AI enables tools to create written work, images and even audio in response to prompts from users. Investor fascination with AI has helped push Wall Street back into a bull market, despite lingering economic uncertainty. Companies will likely need new workers to help them implement and manage AI tools. Alphabet CEO Sundar Pichai, left, and OpenAI CEO Sam Altman arrive to the White House for a meeting with Vice President Kamala Harris on artificial intelligence, Thursday, May 4, 2023, in Washington. Evan Vucci/AP\n",
      "\n",
      "\n",
      "\n",
      "    Is AI dangerous?\n"
     ]
    }
   ],
   "source": [
    "print(token_summary)"
   ]
  },
  {
   "cell_type": "code",
   "execution_count": 21,
   "metadata": {},
   "outputs": [
    {
     "name": "stdout",
     "output_type": "stream",
     "text": [
      "The polarity score for the article is: 0.0682\n"
     ]
    }
   ],
   "source": [
    "\n",
    "nlp = spacy.load('en_core_web_sm')\n",
    "# why not, let's add some fun sentiment analysis, because we can\n",
    "nlp.add_pipe('spacytextblob')\n",
    "token_summary = nlp(token_summary)\n",
    "print(f'The polarity score for the article is: {round(token_summary._.polarity, 4)}')"
   ]
  },
  {
   "cell_type": "code",
   "execution_count": 22,
   "metadata": {},
   "outputs": [],
   "source": [
    "#scores by lemma\n",
    "lemma_sent_scores = list()\n",
    "for sentence in list(doc.sents):\n",
    "    score = score_sentence_by_lemma(sentence, interesting_tokens)\n",
    "    if score >= cut_off:\n",
    "        lemma_sent_scores.append(sentence.text.strip())"
   ]
  },
  {
   "cell_type": "code",
   "execution_count": 23,
   "metadata": {},
   "outputs": [
    {
     "name": "stdout",
     "output_type": "stream",
     "text": [
      "The length of the summary with a cut-off of 0.65 is 12 sentences, based on lemma score.\n"
     ]
    }
   ],
   "source": [
    "print(f'The length of the summary with a cut-off of {cut_off} is {len(lemma_sent_scores)} sentences, based on lemma score.')"
   ]
  },
  {
   "cell_type": "code",
   "execution_count": 24,
   "metadata": {},
   "outputs": [],
   "source": [
    "lemma_summary = ' '.join(lemma_sent_scores)"
   ]
  },
  {
   "cell_type": "code",
   "execution_count": 25,
   "metadata": {},
   "outputs": [
    {
     "name": "stdout",
     "output_type": "stream",
     "text": [
      "Tom Werner/Stone RF/Getty Images\n",
      "\n",
      "\n",
      "\n",
      "\n",
      "\n",
      "\n",
      "\n",
      "\n",
      "CNN\n",
      "         — \n",
      "    \n",
      "\n",
      "\n",
      "      Business executives keep talking about it. AI advocates tout the technology’s potential to supercharge our productivity, creating a new era of better jobs, better education and better treatments for diseases. The short answer: ChatGPT. The ChatGPT app is seen running on an iPhone in this photo illustration\n",
      "\n",
      "Jaap Arriens/NurPhoto/Getty Images\n",
      "\n",
      "\n",
      "\n",
      "      Microsoft and Google have each introduced features powered by generative AI, the technology underpinning ChatGPT, into their most widely used productivity tools. How exactly does generative AI work? Generative AI enables tools to create written work, images and even audio in response to prompts from users. Investor fascination with AI has helped push Wall Street back into a bull market, despite lingering economic uncertainty. Companies will likely need new workers to help them implement and manage AI tools. Data entry clerks and executive secretaries are expected to see the steepest losses. After media outlet CNET experimented with using AI to write articles, tech website Futurism uncovered factual errors and in some cases, plagiarism, in various pieces. Alphabet CEO Sundar Pichai, left, and OpenAI CEO Sam Altman arrive to the White House for a meeting with Vice President Kamala Harris on artificial intelligence, Thursday, May 4, 2023, in Washington. Evan Vucci/AP\n",
      "\n",
      "\n",
      "\n",
      "    Is AI dangerous?\n"
     ]
    }
   ],
   "source": [
    "print(lemma_summary)"
   ]
  },
  {
   "cell_type": "code",
   "execution_count": 26,
   "metadata": {},
   "outputs": [
    {
     "name": "stdout",
     "output_type": "stream",
     "text": [
      "The polarity score for the summary using a cut off of 0.65 for the lemma score is: 0.0696\n"
     ]
    }
   ],
   "source": [
    "\n",
    "nlp = spacy.load('en_core_web_sm')\n",
    "# why not, let's add some fun sentiment analysis, because we can\n",
    "nlp.add_pipe('spacytextblob')\n",
    "lemma_summary = nlp(lemma_summary)\n",
    "print(f'The polarity score for the summary using a cut off of {cut_off} for the lemma score is: {round(lemma_summary._.polarity, 4)}')"
   ]
  },
  {
   "cell_type": "code",
   "execution_count": 27,
   "metadata": {},
   "outputs": [
    {
     "name": "stdout",
     "output_type": "stream",
     "text": [
      "The polarity score for the article is: 0.0764\n"
     ]
    }
   ],
   "source": [
    "print(f'The polarity score for the article is: {round(doc._.polarity, 4)}')"
   ]
  },
  {
   "cell_type": "code",
   "execution_count": 29,
   "metadata": {},
   "outputs": [
    {
     "name": "stdout",
     "output_type": "stream",
     "text": [
      "The polarity score for the article is: 0.0764\n",
      "The polarity score for the sumary using a cut off of 0.65 for token scores is: 0.0682\n",
      "The polarity score for the summary using a cut off of 0.65 for the lemma score is: 0.0696\n"
     ]
    }
   ],
   "source": [
    "print(f'The polarity score for the article is: {round(doc._.polarity, 4)}')\n",
    "print(f'The polarity score for the sumary using a cut off of {cut_off} for token scores is: {round(token_summary._.polarity, 4)}')\n",
    "print(f'The polarity score for the summary using a cut off of {cut_off} for the lemma score is: {round(lemma_summary._.polarity, 4)}')"
   ]
  },
  {
   "cell_type": "markdown",
   "metadata": {},
   "source": [
    "##### Using a cut off of 0.65 gave the best summaries. The summary is a bit longer but has a polarity score closer to the overall polarity of the article. The article is an informative article that has a neutral tone educating the reader on AI and ChatGPT. Lemmitization reduces the tokens to it's base or root and because of that accounts for slight differences in tense or pluralization. "
   ]
  }
 ],
 "metadata": {
  "kernelspec": {
   "display_name": "Python 3 (ipykernel)",
   "language": "python",
   "name": "python3"
  },
  "language_info": {
   "codemirror_mode": {
    "name": "ipython",
    "version": 3
   },
   "file_extension": ".py",
   "mimetype": "text/x-python",
   "name": "python",
   "nbconvert_exporter": "python",
   "pygments_lexer": "ipython3",
   "version": "3.8.8"
  }
 },
 "nbformat": 4,
 "nbformat_minor": 4
}
